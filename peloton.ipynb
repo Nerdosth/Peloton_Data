{
 "cells": [
  {
   "cell_type": "code",
   "execution_count": 2,
   "metadata": {},
   "outputs": [],
   "source": [
    "import pandas as pd"
   ]
  },
  {
   "cell_type": "code",
   "execution_count": 3,
   "metadata": {},
   "outputs": [],
   "source": [
    "#Find your user_id by logging into your account, going to your profile, going to your workouts, and get the link from \"Download Workout\"\n",
    "import requests\n",
    "from config import user_id, username, password\n",
    "s = requests.Session()\n",
    "payload = {'username_or_email':username, 'password':password}\n",
    "s.post('https://api.onepeloton.com/auth/login', json=payload)\n",
    "download = f'https://api.onepeloton.com/api/user/{user_id}/workout_history_csv?timezone=America/Chicago'\n",
    "response = s.get(download)\n",
    "with open('C:/Users/erdos/Class Folder/Peloton_Data/Resources/input_workouts.csv', 'wb') as file:\n",
    "    file.write(response.content)"
   ]
  },
  {
   "cell_type": "code",
   "execution_count": 4,
   "metadata": {},
   "outputs": [],
   "source": [
    "#read the imported CSV file into a dataframe\n",
    "df = pd.read_csv('Resources/input_workouts.csv')"
   ]
  },
  {
   "cell_type": "code",
   "execution_count": 5,
   "metadata": {},
   "outputs": [],
   "source": [
    "# convert the column of time objects to datetime objects\n",
    "df['date'] = df['Workout Timestamp'].str.slice(stop=-12)\n",
    "df['Workout Timestamp'] = df['date'].apply(pd.to_datetime)\n",
    "df.drop(['date','Class Timestamp','Avg. Incline','Avg. Pace (min/mi)'], axis=1, inplace=True)\n",
    "df.fillna(0, inplace=True)\n",
    "\n",
    "#convert float to int for columns that will always be whole numbers. \n",
    "df[['Total Output', 'Avg. Watts', 'Avg. Cadence (RPM)']] = df[['Total Output', 'Avg. Watts', 'Avg. Cadence (RPM)']].astype(int)"
   ]
  },
  {
   "attachments": {},
   "cell_type": "markdown",
   "metadata": {},
   "source": [
    "## Change the threshold date and FTP Score to match with your data."
   ]
  },
  {
   "cell_type": "code",
   "execution_count": 6,
   "metadata": {},
   "outputs": [],
   "source": [
    "#Setup initial FTP score: \n",
    "threshold_date = datetime.today().strftime('%Y-%m-%d')\n",
    "df['Current FTP'] = 0\n",
    "\n",
    "# set the value of 'Current FTP' \n",
    "df.loc[df['Workout Timestamp'] <= threshold_date, 'Current FTP'] = <your FTP score> \n",
    "\n",
    "# ----- Uncomment when you want to add a new FTP score-----#\n",
    "\n",
    "def add_current_ftp(df, new_ftp, start_date, end_date):\n",
    "    # Set the value of 'Current FTP' to the input value for the rows where the date is within the input date range\n",
    "    df.loc[(df['Workout Timestamp'] >= start_date) & (df['Workout Timestamp'] <= end_date), 'Current FTP'] = new_ftp\n",
    "\n",
    "    # Print the resulting DataFrame\n",
    "    print(df)\n",
    "\n",
    "# Add the date range during which the new FTP score was documented\n",
    "add_current_ftp(df, <new_ftp_value>, pd.to_datetime(<start_date>), pd.to_datetime(<end_date>))\n",
    "\n"
   ]
  },
  {
   "cell_type": "code",
   "execution_count": null,
   "metadata": {},
   "outputs": [],
   "source": [
    "#move the columns to a place that makes sense. \n",
    "ftp_column = df.pop('Current FTP')\n",
    "df.insert(8, 'Current FTP', ftp_column)\n",
    "\n",
    "# create a fitness indicator column by dividing the avg watts by the avg heartrate for Cycling only \n",
    "cycling_mask = df['Fitness Discipline'] == 'Cycling'\n",
    "fitness_indicator = df.loc[cycling_mask, 'Avg. Watts'] / df.loc[cycling_mask, 'Avg. Heartrate']\n",
    "df.loc[cycling_mask, 'Fitness Indicator'] = fitness_indicator.round(2)\n",
    "\n",
    "# Create a column that will assign avg power zones for your cycling workout. \n",
    "watt_ranges = [(0,0,''), (1, 55, 'Active Recovery'), (56, 75, 'Endurance'), (76, 90, 'Tempo'), (91, 105, 'Threshold'), (106, 120, 'VO2 Max')]\n",
    "\n",
    "for index, row in df.iterrows():\n",
    "    # get the current FTP and average watts for this row\n",
    "    current_ftp = row['Current FTP']\n",
    "    avg_watts = row['Avg. Watts']\n",
    "    # calculate the percentage of the FTP score\n",
    "    ftp_percentage = avg_watts / current_ftp * 100\n",
    "    # loop through the watt ranges and categorize the average watts\n",
    "    for watt_range in watt_ranges:\n",
    "        if watt_range[0] <= ftp_percentage <= watt_range[1]:\n",
    "            # assign the power zone to the 'Avg. Power Zone' column\n",
    "            df.at[index, 'Avg. Power Zone'] = watt_range[2]\n",
    "            break\n",
    "\n",
    "df.head(5)"
   ]
  },
  {
   "cell_type": "code",
   "execution_count": 76,
   "metadata": {},
   "outputs": [],
   "source": [
    "df.to_csv('Resources/output_workouts.csv')"
   ]
  }
 ],
 "metadata": {
  "kernelspec": {
   "display_name": "base",
   "language": "python",
   "name": "python3"
  },
  "language_info": {
   "codemirror_mode": {
    "name": "ipython",
    "version": 3
   },
   "file_extension": ".py",
   "mimetype": "text/x-python",
   "name": "python",
   "nbconvert_exporter": "python",
   "pygments_lexer": "ipython3",
   "version": "3.9.12"
  },
  "orig_nbformat": 4
 },
 "nbformat": 4,
 "nbformat_minor": 2
}
